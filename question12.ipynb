{
 "cells": [
  {
   "cell_type": "markdown",
   "id": "14cdabb6-2007-40c5-bf9a-99be2e5a30af",
   "metadata": {},
   "source": [
    "We are currently working in the following directory:"
   ]
  },
  {
   "cell_type": "code",
   "execution_count": 1,
   "id": "b8d78cb2-d47f-4377-bd25-63dae1a2e515",
   "metadata": {},
   "outputs": [
    {
     "name": "stdout",
     "output_type": "stream",
     "text": [
      "/c/Users/mlee/Desktop/data science course/Toolbox/student/jupyterlab_practice\n"
     ]
    }
   ],
   "source": [
    "!pwd"
   ]
  },
  {
   "cell_type": "markdown",
   "id": "38138a66-2782-458c-8dd4-478f76824695",
   "metadata": {},
   "source": [
    "To time how long it takes to run a Python cell, we could use the timeit command inside a cell as is shown below: Followed by the proper use of the timeit command to time the following loop:\n",
    "\n",
    "```python\n",
    "%%timeit\n",
    "\n",
    "for i in range(1_000_000):\n",
    "    i**2\n",
    "```"
   ]
  },
  {
   "cell_type": "code",
   "execution_count": 2,
   "id": "912db239-0dc4-4cc4-a2e1-7396633e72e4",
   "metadata": {},
   "outputs": [
    {
     "name": "stderr",
     "output_type": "stream",
     "text": [
      "[NbConvertApp] Converting notebook question12.ipynb to html\n",
      "[NbConvertApp] Writing 270958 bytes to question12.html\n"
     ]
    }
   ],
   "source": [
    "!jupyter nbconvert --to html --no-input question12.ipynb"
   ]
  }
 ],
 "metadata": {
  "kernelspec": {
   "display_name": "Python [conda env:base] *",
   "language": "python",
   "name": "conda-base-py"
  },
  "language_info": {
   "codemirror_mode": {
    "name": "ipython",
    "version": 3
   },
   "file_extension": ".py",
   "mimetype": "text/x-python",
   "name": "python",
   "nbconvert_exporter": "python",
   "pygments_lexer": "ipython3",
   "version": "3.12.3"
  }
 },
 "nbformat": 4,
 "nbformat_minor": 5
}
