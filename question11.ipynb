{
 "cells": [
  {
   "cell_type": "markdown",
   "id": "7d9c18c3-0ae7-4e4b-9396-606ff3d2fc7f",
   "metadata": {},
   "source": [
    "# Mianne Lee\n",
    "Notebook for assignment 7"
   ]
  },
  {
   "cell_type": "code",
   "execution_count": 1,
   "id": "d6bcaf58-c543-4ac0-9d4a-29cbeabcd610",
   "metadata": {},
   "outputs": [
    {
     "name": "stdout",
     "output_type": "stream",
     "text": [
      "5.0\n"
     ]
    }
   ],
   "source": [
    "def compute_mean(list):\n",
    "    \n",
    "    mean_list = sum(list)/len()\n",
    "    print (mean_list)\n",
    "\n",
    "\n",
    "compute_mean([2, 4, 6, 8])"
   ]
  },
  {
   "cell_type": "markdown",
   "id": "201cf144-add7-4197-a803-aee51763862e",
   "metadata": {},
   "source": [
    "The function 'compute_mean' computes the mean of the values in a list and prints the results.\n",
    "\n",
    "The two different ways of expression the equation of the mean is as shown below:\n",
    "\n",
    "$$\n",
    " \\bar{x} = \\frac {x_1+x_2+...+x_n}{n} = \\frac{1}{n} \\left( \\sum_{i=1}^{n} x_i \\right)\n",
    "$$\n"
   ]
  },
  {
   "cell_type": "markdown",
   "id": "0334ace2-09f2-4f86-9374-2c669e164e08",
   "metadata": {},
   "source": [
    "The function 'compute_mean' computes the mean of the values in a list and prints the results.\n",
    "\n",
    "The two different ways of expression the equation of the mean is as shown below:\n",
    "\n",
    "$$\n",
    " \\bar{x} = \\frac {x_1+x_2+...+x_n}{n} = \\frac{1}{n} \\left( \\sum_{i=1}^{n} x_i \\right)\n",
    "$$\n"
   ]
  }
 ],
 "metadata": {
  "kernelspec": {
   "display_name": "Python [conda env:base] *",
   "language": "python",
   "name": "conda-base-py"
  },
  "language_info": {
   "codemirror_mode": {
    "name": "ipython",
    "version": 3
   },
   "file_extension": ".py",
   "mimetype": "text/x-python",
   "name": "python",
   "nbconvert_exporter": "python",
   "pygments_lexer": "ipython3",
   "version": "3.12.3"
  }
 },
 "nbformat": 4,
 "nbformat_minor": 5
}
